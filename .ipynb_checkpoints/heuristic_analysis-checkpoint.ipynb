{
 "cells": [
  {
   "cell_type": "markdown",
   "metadata": {
    "deletable": true,
    "editable": true
   },
   "source": [
    "# Planning search heuristic analysis\n",
    "\n",
    "Prepared by nate@respawn.io for AIND Planning assignment.\n"
   ]
  },
  {
   "cell_type": "markdown",
   "metadata": {},
   "source": [
    "### Utils"
   ]
  },
  {
   "cell_type": "code",
   "execution_count": 20,
   "metadata": {
    "collapsed": false
   },
   "outputs": [],
   "source": [
    "import pandas as pd\n",
    "import matplotlib.pyplot as plt\n",
    "%matplotlib inline\n",
    "\n",
    "plt.style.use('ggplot')"
   ]
  },
  {
   "cell_type": "markdown",
   "metadata": {
    "collapsed": true,
    "deletable": true,
    "editable": true
   },
   "source": [
    "## Optimal plans for airport cargo problems 1-3\n",
    "\n",
    "#### Problem 1: 2 cargos, 2 planes, 2 airports\n",
    "\n",
    "6 actions total, obviously we need at least 3 actions per cargo item (load, fly, unload), so any optimal plan would have 6 actions. \n",
    "\n",
    "```\n",
    "Load(C1, P1, SFO)\n",
    "Fly(P1, SFO, JFK)\n",
    "Load(C2, P2, JFK)\n",
    "Fly(P2, JFK, SFO)\n",
    "Unload(C1, P1, JFK)\n",
    "Unload(C2, P2, SFO)\n",
    "```\n",
    "\n",
    "#### Problem 2: 3 cargos, 3 planes, 3 airports\n",
    "\n",
    "9 actions, 3 per cargo, ok.\n",
    "\n",
    "```\n",
    "Load(C3, P3, ATL)\n",
    "Fly(P3, ATL, SFO)\n",
    "Unload(C3, P3, SFO)\n",
    "Load(C1, P1, SFO)\n",
    "Fly(P1, SFO, JFK)\n",
    "Unload(C1, P1, JFK)\n",
    "Load(C2, P2, JFK)\n",
    "Fly(P2, JFK, SFO)\n",
    "Unload(C2, P2, SFO)\n",
    "```\n",
    "\n",
    "\n",
    "#### Problem 3: 4 cargos, 2 planes, 4 airports\n",
    "\n",
    "Assumint one plane can hold more than one cargo — that's an optimal plan with 12 actions.\n",
    "\n",
    "```\n",
    "Load(C2, P2, JFK)\n",
    "Fly(P2, JFK, ORD)\n",
    "Load(C4, P2, ORD)\n",
    "Fly(P2, ORD, SFO)\n",
    "Unload(C4, P2, SFO)\n",
    "Load(C1, P1, SFO)\n",
    "Fly(P1, SFO, ATL)\n",
    "Load(C3, P1, ATL)\n",
    "Fly(P1, ATL, JFK)\n",
    "Unload(C3, P1, JFK)\n",
    "Unload(C2, P2, SFO)\n",
    "Unload(C1, P1, JFK)\n",
    "```\n"
   ]
  },
  {
   "cell_type": "code",
   "execution_count": 26,
   "metadata": {
    "collapsed": true,
    "deletable": true,
    "editable": true
   },
   "outputs": [],
   "source": [
    "results = pd.read_csv('searches_data.csv')"
   ]
  },
  {
   "cell_type": "code",
   "execution_count": 27,
   "metadata": {
    "collapsed": false
   },
   "outputs": [
    {
     "data": {
      "text/html": [
       "<div>\n",
       "<table border=\"1\" class=\"dataframe\">\n",
       "  <thead>\n",
       "    <tr style=\"text-align: right;\">\n",
       "      <th></th>\n",
       "      <th>problem</th>\n",
       "      <th>alg</th>\n",
       "      <th>expansions</th>\n",
       "      <th>goal tests</th>\n",
       "      <th>new nodes</th>\n",
       "      <th>time</th>\n",
       "      <th>optimal</th>\n",
       "    </tr>\n",
       "  </thead>\n",
       "  <tbody>\n",
       "    <tr>\n",
       "      <th>0</th>\n",
       "      <td>Problem 1</td>\n",
       "      <td>bfs</td>\n",
       "      <td>43.0</td>\n",
       "      <td>56.0</td>\n",
       "      <td>180.0</td>\n",
       "      <td>0.034162</td>\n",
       "      <td>True</td>\n",
       "    </tr>\n",
       "    <tr>\n",
       "      <th>1</th>\n",
       "      <td>Problem 1</td>\n",
       "      <td>dfs</td>\n",
       "      <td>21.0</td>\n",
       "      <td>22.0</td>\n",
       "      <td>84.0</td>\n",
       "      <td>0.020853</td>\n",
       "      <td>False</td>\n",
       "    </tr>\n",
       "    <tr>\n",
       "      <th>2</th>\n",
       "      <td>Problem 1</td>\n",
       "      <td>ucs</td>\n",
       "      <td>55.0</td>\n",
       "      <td>57.0</td>\n",
       "      <td>224.0</td>\n",
       "      <td>0.040000</td>\n",
       "      <td>True</td>\n",
       "    </tr>\n",
       "    <tr>\n",
       "      <th>3</th>\n",
       "      <td>Problem 2</td>\n",
       "      <td>bfs</td>\n",
       "      <td>3343.0</td>\n",
       "      <td>4609.0</td>\n",
       "      <td>30509.0</td>\n",
       "      <td>14.984030</td>\n",
       "      <td>Tree</td>\n",
       "    </tr>\n",
       "    <tr>\n",
       "      <th>4</th>\n",
       "      <td>Problem 2</td>\n",
       "      <td>dfs</td>\n",
       "      <td>624.0</td>\n",
       "      <td>625.0</td>\n",
       "      <td>5602.0</td>\n",
       "      <td>4.050000</td>\n",
       "      <td>False</td>\n",
       "    </tr>\n",
       "    <tr>\n",
       "      <th>5</th>\n",
       "      <td>Problem 2</td>\n",
       "      <td>ucs</td>\n",
       "      <td>4852.0</td>\n",
       "      <td>4854.0</td>\n",
       "      <td>44030.0</td>\n",
       "      <td>12.930000</td>\n",
       "      <td>True</td>\n",
       "    </tr>\n",
       "    <tr>\n",
       "      <th>6</th>\n",
       "      <td>Problem 3</td>\n",
       "      <td>bfs</td>\n",
       "      <td>14663.0</td>\n",
       "      <td>18098.0</td>\n",
       "      <td>129631.0</td>\n",
       "      <td>114.600000</td>\n",
       "      <td>True</td>\n",
       "    </tr>\n",
       "    <tr>\n",
       "      <th>7</th>\n",
       "      <td>Problem 3</td>\n",
       "      <td>dfs</td>\n",
       "      <td>408.0</td>\n",
       "      <td>409.0</td>\n",
       "      <td>3364.0</td>\n",
       "      <td>2.060000</td>\n",
       "      <td>False</td>\n",
       "    </tr>\n",
       "    <tr>\n",
       "      <th>8</th>\n",
       "      <td>Problem 3</td>\n",
       "      <td>ucs</td>\n",
       "      <td>18235.0</td>\n",
       "      <td>18237.0</td>\n",
       "      <td>159716.0</td>\n",
       "      <td>61.966000</td>\n",
       "      <td>True</td>\n",
       "    </tr>\n",
       "    <tr>\n",
       "      <th>9</th>\n",
       "      <td>Problem 1</td>\n",
       "      <td>ignore_preconditions</td>\n",
       "      <td>41.0</td>\n",
       "      <td>43.0</td>\n",
       "      <td>170.0</td>\n",
       "      <td>0.054000</td>\n",
       "      <td>True</td>\n",
       "    </tr>\n",
       "    <tr>\n",
       "      <th>10</th>\n",
       "      <td>Problem 1</td>\n",
       "      <td>pg_levelsum</td>\n",
       "      <td>11.0</td>\n",
       "      <td>13.0</td>\n",
       "      <td>50.0</td>\n",
       "      <td>0.692000</td>\n",
       "      <td>True</td>\n",
       "    </tr>\n",
       "    <tr>\n",
       "      <th>11</th>\n",
       "      <td>Problem 2</td>\n",
       "      <td>ignore_preconditions</td>\n",
       "      <td>1450.0</td>\n",
       "      <td>1452.0</td>\n",
       "      <td>13303.0</td>\n",
       "      <td>5.290000</td>\n",
       "      <td>True</td>\n",
       "    </tr>\n",
       "    <tr>\n",
       "      <th>12</th>\n",
       "      <td>Problem 2</td>\n",
       "      <td>pg_levelsum</td>\n",
       "      <td>86.0</td>\n",
       "      <td>88.0</td>\n",
       "      <td>841.0</td>\n",
       "      <td>63.894000</td>\n",
       "      <td>True</td>\n",
       "    </tr>\n",
       "    <tr>\n",
       "      <th>13</th>\n",
       "      <td>Problem 3</td>\n",
       "      <td>ignore_preconditions</td>\n",
       "      <td>5040.0</td>\n",
       "      <td>5042.0</td>\n",
       "      <td>44944.0</td>\n",
       "      <td>18.610000</td>\n",
       "      <td>True</td>\n",
       "    </tr>\n",
       "    <tr>\n",
       "      <th>14</th>\n",
       "      <td>Problem 3</td>\n",
       "      <td>pg_levelsum</td>\n",
       "      <td>325.0</td>\n",
       "      <td>327.0</td>\n",
       "      <td>3002.0</td>\n",
       "      <td>363.540000</td>\n",
       "      <td>True</td>\n",
       "    </tr>\n",
       "    <tr>\n",
       "      <th>15</th>\n",
       "      <td>Problem 1</td>\n",
       "      <td>ignore_precond_alternative</td>\n",
       "      <td>6.0</td>\n",
       "      <td>8.0</td>\n",
       "      <td>28.0</td>\n",
       "      <td>0.009000</td>\n",
       "      <td>True</td>\n",
       "    </tr>\n",
       "    <tr>\n",
       "      <th>16</th>\n",
       "      <td>Problem 2</td>\n",
       "      <td>ignore_precond_alternative</td>\n",
       "      <td>9.0</td>\n",
       "      <td>11.0</td>\n",
       "      <td>86.0</td>\n",
       "      <td>0.650000</td>\n",
       "      <td>True</td>\n",
       "    </tr>\n",
       "    <tr>\n",
       "      <th>17</th>\n",
       "      <td>Problem 3</td>\n",
       "      <td>ignore_precond_alternative</td>\n",
       "      <td>229.0</td>\n",
       "      <td>231.0</td>\n",
       "      <td>1959.0</td>\n",
       "      <td>1.130000</td>\n",
       "      <td>True</td>\n",
       "    </tr>\n",
       "    <tr>\n",
       "      <th>18</th>\n",
       "      <td>NaN</td>\n",
       "      <td>NaN</td>\n",
       "      <td>NaN</td>\n",
       "      <td>NaN</td>\n",
       "      <td>NaN</td>\n",
       "      <td>NaN</td>\n",
       "      <td>NaN</td>\n",
       "    </tr>\n",
       "  </tbody>\n",
       "</table>\n",
       "</div>"
      ],
      "text/plain": [
       "      problem                         alg  expansions  goal tests  new nodes  \\\n",
       "0   Problem 1                         bfs        43.0        56.0      180.0   \n",
       "1   Problem 1                         dfs        21.0        22.0       84.0   \n",
       "2   Problem 1                         ucs        55.0        57.0      224.0   \n",
       "3   Problem 2                         bfs      3343.0      4609.0    30509.0   \n",
       "4   Problem 2                         dfs       624.0       625.0     5602.0   \n",
       "5   Problem 2                         ucs      4852.0      4854.0    44030.0   \n",
       "6   Problem 3                         bfs     14663.0     18098.0   129631.0   \n",
       "7   Problem 3                         dfs       408.0       409.0     3364.0   \n",
       "8   Problem 3                         ucs     18235.0     18237.0   159716.0   \n",
       "9   Problem 1        ignore_preconditions        41.0        43.0      170.0   \n",
       "10  Problem 1                 pg_levelsum        11.0        13.0       50.0   \n",
       "11  Problem 2        ignore_preconditions      1450.0      1452.0    13303.0   \n",
       "12  Problem 2                 pg_levelsum        86.0        88.0      841.0   \n",
       "13  Problem 3        ignore_preconditions      5040.0      5042.0    44944.0   \n",
       "14  Problem 3                 pg_levelsum       325.0       327.0     3002.0   \n",
       "15  Problem 1  ignore_precond_alternative         6.0         8.0       28.0   \n",
       "16  Problem 2  ignore_precond_alternative         9.0        11.0       86.0   \n",
       "17  Problem 3  ignore_precond_alternative       229.0       231.0     1959.0   \n",
       "18        NaN                         NaN         NaN         NaN        NaN   \n",
       "\n",
       "          time optimal  \n",
       "0     0.034162    True  \n",
       "1     0.020853   False  \n",
       "2     0.040000    True  \n",
       "3    14.984030    Tree  \n",
       "4     4.050000   False  \n",
       "5    12.930000    True  \n",
       "6   114.600000    True  \n",
       "7     2.060000   False  \n",
       "8    61.966000    True  \n",
       "9     0.054000    True  \n",
       "10    0.692000    True  \n",
       "11    5.290000    True  \n",
       "12   63.894000    True  \n",
       "13   18.610000    True  \n",
       "14  363.540000    True  \n",
       "15    0.009000    True  \n",
       "16    0.650000    True  \n",
       "17    1.130000    True  \n",
       "18         NaN     NaN  "
      ]
     },
     "execution_count": 27,
     "metadata": {},
     "output_type": "execute_result"
    }
   ],
   "source": [
    "results"
   ]
  },
  {
   "cell_type": "markdown",
   "metadata": {},
   "source": [
    "### Notes on uninformed search algorithms \n",
    "\n",
    "- I've tried to compare to tree-search algs (bfs & dfs over a tree without expanded set), which just take too long to finish for p2 and p3. \n",
    "- BFS tends to be the slowest algorithm on larger problems. \n",
    "- DFS is fast and cheap memory-wise, but doesn't guarantee an optimal plan.\n",
    "- UCS tends to be 2 times cheaper than BFS on execution time, but a bit more expensive on memory. That is if the cost is a known constant and is not calculated on the fly. \n",
    "\n",
    "Overall, these algorithms won't really work for a big enough problem in a reasonable time with a reasonable hardware."
   ]
  },
  {
   "cell_type": "markdown",
   "metadata": {},
   "source": [
    "### Notes on heuristic algorighms\n",
    "\n",
    "\n",
    "#### `ignore_preconditions` \n",
    "\n",
    "`ignore_preconditions` works vert fast, and it's heuristic is admisable, however it feels like cheat given that the heuristic, in our case, is a stupid one, just the amount of unmet goals. \n",
    "\n",
    "#### Inadmisable `ignore_preconditions_alternative`\n",
    "\n",
    "I've tried to come up with an alternative heuristic for ignoring some preconditions: number of unmet goals plus number of unique unmet preconditions for those goals. This won't be admisable because it can overestimate the total cost, but it converges VERY fast. I've included it into this comparison, just for fun.\n",
    "\n",
    "In a way, it tries to estimate what planning graph would do, without mutexes and just for 2 levels (goal, goal-1). Solves Problem 3 with an optimal plan in 1.13 seconds versus 300+ seconds for `pg_levelsum`.\n",
    "\n",
    "#### Planing Graph Levelsum\n",
    "\n",
    "`pg_levelsum` is slow, because calculating the whole planning graph with all the mutex conditions is slow. It should also be pretty expensive on memory. But when it's done, the resulting heuristic performs the best out of all the other heuristics we've researched. The plan search is very memory and time effecient with it. "
   ]
  },
  {
   "cell_type": "markdown",
   "metadata": {},
   "source": [
    "### Execution time"
   ]
  },
  {
   "cell_type": "code",
   "execution_count": 41,
   "metadata": {
    "collapsed": false
   },
   "outputs": [
    {
     "data": {
      "text/plain": [
       "<matplotlib.axes._subplots.AxesSubplot at 0x112ee8e48>"
      ]
     },
     "execution_count": 41,
     "metadata": {},
     "output_type": "execute_result"
    },
    {
     "data": {
      "image/png": "[encoded data removed]",
      "text/plain": [
       "<matplotlib.figure.Figure at 0x11305f8d0>"
      ]
     },
     "metadata": {},
     "output_type": "display_data"
    }
   ],
   "source": [
    "results[ results.problem == 'Problem 3' ].set_index('alg').sort_values('time', ascending=False).time.plot(kind='barh', figsize=(10,6))"
   ]
  },
  {
   "cell_type": "markdown",
   "metadata": {},
   "source": [
    "Given that `ignore_precond_alternative` is inadmisable and `dfs` renders suboptimal plan, the fastest heuristic is `ignore_preconditions`. "
   ]
  },
  {
   "cell_type": "markdown",
   "metadata": {},
   "source": [
    "### Expanded nodes"
   ]
  },
  {
   "cell_type": "code",
   "execution_count": 44,
   "metadata": {
    "collapsed": false
   },
   "outputs": [
    {
     "data": {
      "text/plain": [
       "<matplotlib.axes._subplots.AxesSubplot at 0x113236b38>"
      ]
     },
     "execution_count": 44,
     "metadata": {},
     "output_type": "execute_result"
    },
    {
     "data": {
      "image/png": "[encoded data removed]",
      "text/plain": [
       "<matplotlib.figure.Figure at 0x1133a1208>"
      ]
     },
     "metadata": {},
     "output_type": "display_data"
    }
   ],
   "source": [
    "results[ results.problem == 'Problem 3' ].set_index('alg').sort_values('expansions', ascending=False).expansions.plot(kind='barh', figsize=(10,6))"
   ]
  },
  {
   "cell_type": "markdown",
   "metadata": {},
   "source": [
    "If we're to ignore the time and memory `pg_levelsum` uses to initially build the Planning Graph, than it's by far the best alg out there.\n",
    "\n",
    "Alternatively, `ignore_preconditions` performs reasonably well if well implemented (cheap to calculate, admisable). That way we can save on calculating the planning graph."
   ]
  }
 ],
 "metadata": {
  "kernelspec": {
   "display_name": "Python 3",
   "language": "python",
   "name": "python3"
  },
  "language_info": {
   "codemirror_mode": {
    "name": "ipython",
    "version": 3
   },
   "file_extension": ".py",
   "mimetype": "text/x-python",
   "name": "python",
   "nbconvert_exporter": "python",
   "pygments_lexer": "ipython3",
   "version": "3.6.0"
  }
 },
 "nbformat": 4,
 "nbformat_minor": 2
}
